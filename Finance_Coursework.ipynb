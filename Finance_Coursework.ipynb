{
 "cells": [
  {
   "cell_type": "code",
   "execution_count": 1,
   "metadata": {},
   "outputs": [
    {
     "data": {
      "text/plain": [
       "902897"
      ]
     },
     "execution_count": 1,
     "metadata": {},
     "output_type": "execute_result"
    }
   ],
   "source": [
    "902897"
   ]
  },
  {
   "cell_type": "markdown",
   "metadata": {},
   "source": [
    "### Please select the line below and press __Shift+Enter__"
   ]
  },
  {
   "cell_type": "code",
   "execution_count": 2,
   "metadata": {},
   "outputs": [],
   "source": [
    "import numpy as np #contains a lot of maths functions that we will use\n",
    "import pandas as pd # handling data \n",
    "from scipy import stats\n",
    "import matplotlib.pyplot as plt #plotting package\n",
    "from ipywidgets import interact, interactive, fixed #interactivity"
   ]
  },
  {
   "cell_type": "markdown",
   "metadata": {},
   "source": [
    "# Problem 1 (25 marks)"
   ]
  },
  {
   "cell_type": "markdown",
   "metadata": {},
   "source": [
    "Let $\\delta t >0$ and let $N \\in \\mathbb{N}$. We consider stock prices at the following times \n",
    "$$ S_0, S_{\\delta t}, S_{2 \\delta t}, \\ldots, S_{N \\delta t},$$\n",
    "where $S_t$ denotes a price of a stock at time $t$.\n",
    "Assume that the stock evolves in time as follows\n",
    "$$S_{(n + 1) \\delta t } = \n",
    "\\begin{cases} \n",
    "u\\cdot S_{n \\delta t}& \\mbox{ with probability } p_1, \\\\\n",
    "d\\cdot S_{n \\delta t} & \\mbox{ with probability } p_2, \\\\\n",
    "S_{n \\delta t} & \\mbox{ with probability } 1-p_1-p_2 \\\\\n",
    "\\end{cases}$$\n",
    "for any $n \\in \\{0, 1, \\ldots, N-1\\}$, where $u>1$, $d = \\frac{1}{u}$ and $0 \\leq p_1 + p_2 \\leq 1$.\n",
    "\n",
    "- Write a function __stock_model__ that returns the prices of the stock according to the above model between time $0$ and $T=N\\delta t$. It should have the following inputs S0, u, p1, p2, and N. It should return a list of a numpy array of stock prices, that is, $$S_{0}, S_{\\delta t}, S_{2 \\delta t}, \\ldots, S_{N \\delta t}.$$\n",
    "Note that $\\delta t$ does not have to be used in this code, however it will play a part in the code below to get $T$. \n",
    "- Produce a graph of this stock, your x-axis should represent the time (from $0$ to $T$). Choose some S0, u (e.g. 1.01), p1 and p2, big N (e.g. 1000), small dt (e.g. 0.001).\n",
    "- Make your plot interactive with respect to probabilities $p_1$ and $p_2$, keep their range in the interval $(0, 0.5]$."
   ]
  },
  {
   "cell_type": "code",
   "execution_count": 3,
   "metadata": {},
   "outputs": [
    {
     "name": "stdout",
     "output_type": "stream",
     "text": [
      "[100.         100.         100.         101.         102.01\n",
      " 103.0301     104.060401   103.0301     103.0301     103.0301\n",
      " 102.01       103.0301     104.060401   105.10100501 104.060401\n",
      " 105.10100501 106.15201506 106.15201506 106.15201506 105.10100501\n",
      " 104.060401   105.10100501 104.060401   105.10100501 106.15201506\n",
      " 107.21353521 108.28567056 108.28567056 109.36852727 110.46221254\n",
      " 110.46221254]\n"
     ]
    }
   ],
   "source": [
    "def stock_model(S0, u, p1, p2, N):\n",
    "    if p1+p2 > 1:\n",
    "        return ('Sum of probabilities cannot be greater than 1')\n",
    "    elif u <= 1:\n",
    "        return ('u must be greater than 1')\n",
    "    stk_prc = np.zeros(N+1)# one dimensional array of N+1 zeroes\n",
    "    stk_prc[0] = S0\n",
    "    d = 1/u\n",
    "    #for n in range(N):\n",
    "        #stk_prc[n+1] = np.random.choice([u*stk_prc[n],d*stk_prc[n],stk_prc[n]], p = [p1, p2,1-p1-p2])\n",
    "        #the way taught during first year on M131, wasn`t sure if I can use it, so...\n",
    "    multiplier_choice = np.array([u, d, 1])\n",
    "    probs = np.array([p1, p2, 1-p1-p2])\n",
    "    multipliers = np.random.choice(multiplier_choice , size = N, p = probs)# generates N values of a random variable \n",
    "    #such that it takes multiplier_choice values with probs probabilities\n",
    "    stk_prc[1:] = S0*np.cumprod(multipliers)#a cumulative product function, [S0,S0*multipliers[0],S0*multipliers[0]*multipliers[1],...]           \n",
    "    return stk_prc\n",
    "\n",
    "print(stock_model(100, 1.01, 0.6, 0.2, 30))"
   ]
  },
  {
   "cell_type": "code",
   "execution_count": 4,
   "metadata": {},
   "outputs": [
    {
     "data": {
      "image/png": "[encoded data removed]",
      "text/plain": [
       "<Figure size 432x288 with 1 Axes>"
      ]
     },
     "metadata": {
      "needs_background": "light"
     },
     "output_type": "display_data"
    }
   ],
   "source": [
    "S0, u, N, dt, p1, p2 = 100, 1.01, 1000, 0.001, 0.33, 0.33\n",
    "T = N*dt\n",
    "time = np.linspace(0, T, N+1)#x-axis, from 0 to T, N+1 points\n",
    "stk_prc = stock_model(S0, u, p1, p2, N)\n",
    "plt.plot(time, stk_prc)# plots graph of stock prices against time\n",
    "plt.show()"
   ]
  },
  {
   "cell_type": "code",
   "execution_count": 5,
   "metadata": {},
   "outputs": [
    {
     "data": {
      "application/vnd.jupyter.widget-view+json": {
       "model_id": "e1156b6d46ef40e2abbf5b753a51f615",
       "version_major": 2,
       "version_minor": 0
      },
      "text/plain": [
       "interactive(children=(FloatSlider(value=0.25, description='p1', max=0.5, min=0.01, step=0.01), FloatSlider(val…"
      ]
     },
     "metadata": {},
     "output_type": "display_data"
    }
   ],
   "source": [
    "def stock_graph(p1, p2):\n",
    "    S0, u, N, dt=100, 1.01, 1000, 0.001\n",
    "    T = N*dt\n",
    "    time = np.linspace(0, T, N+1)\n",
    "    stk_prc = stock_model(S0, u, p1, p2, N)\n",
    "    plt.plot(time, stk_prc)\n",
    "    plt.show()\n",
    "    \n",
    "interactive_plot = interactive(stock_graph, p1 = (0.01, 0.5, 0.01),p2 = (0.01, 0.5, 0.01))\n",
    "interactive_plot  #range of p1,p2 starts from 0.01 to 0.5 with step 0.01 as interval is closed on the left (0,0.5]"
   ]
  },
  {
   "cell_type": "markdown",
   "metadata": {},
   "source": [
    "# Problem 2 (35 marks)"
   ]
  },
  {
   "cell_type": "markdown",
   "metadata": {},
   "source": [
    "By using monte-carlo simulation price a __down-and-in-option__ with the strike price $K$  (the underlying asset is the stock). Recall that down-and-in-option is a path dependent option such that its payoff function is given by\n",
    "$$ f(\\{S_t\\}_{t=0}^T, K) = \\mathbf{1}_{S^* < B} \\max\\{S_T-K, 0\\},$$\n",
    "where $T>0$ is the maturity,  $S^*$ is the minimum value of the stock in the time interval $[0, T]$, $B>0$ is a barrier that the minimum could hit, and \n",
    "$$\\mathbf{1}_{S^* < B} = \\begin{cases}1 & \\mbox{if } S^* < B \\mbox{ holds} \\\\ 0 & \\mbox{otherwise} \\end{cases}.$$\n",
    "\n",
    "- Write a function __down_and_in_option__ with the following inputs $S_0$, $K$, $B$, $r$, $\\delta t$, $T$. \n",
    "- Use the stock_model function from Problem 1 to simulate the stock market. Set \n",
    "$$ N = \\frac{T}{\\delta t}$$\n",
    "$$\n",
    "u = \\exp\\left( 0.2\\sqrt{2 \\delta t}\\right)$$\n",
    "$$p_1 = \\left( \\frac{\\exp\\left( \\frac{r \\delta t}{2}\\right) - \\exp\\left(-0.2 \\sqrt{\\frac{ \\delta t}{2}}\\right)}{ \\exp\\left(0.2 \\sqrt{\\frac{ \\delta t}{2}}\\right)- \\exp\\left(-0.2 \\sqrt{\\frac{ \\delta t}{2}}\\right)}  \\right)^2     \n",
    "$$\n",
    "$$p_2 =  \\left( \\frac{ \\exp\\left(0.2 \\sqrt{\\frac{ \\delta t}{2}}\\right)- \\exp\\left( \\frac{r \\delta t}{2}\\right) }{ \\exp\\left(0.2 \\sqrt{\\frac{ \\delta t}{2}}\\right)- \\exp\\left(-0.2 \\sqrt{\\frac{ \\delta t}{2}}\\right)}  \\right)^2     \n",
    "$$\n",
    "-  Perform $m$ trials of __down_and_in_option__ function, record the results in a list or a numpy array, and display the average of that list (or numpy array) .\n",
    "- Test your function with the following inputs $S_0 = \\frac{\\mbox{your_student_id}}{8000}$, $K = \\frac{\\mbox{your_student_id}}{ 8000} - 8$, $r = 0.06$, $\\delta t = 0.01$, $T=1.0$, $m=10000$. Print the results. \n",
    "\n",
    "Note that you have to use quite a big number of trials $m$, the convergence is quite slow, so the error in approximation is of a high order. "
   ]
  },
  {
   "cell_type": "code",
   "execution_count": 6,
   "metadata": {},
   "outputs": [],
   "source": [
    "def down_and_in_option(S0, K, B, r, dt, T):\n",
    "    N = int(T/dt)#T is a float, hence N need to be converted to integer to work in stock_model function\n",
    "    u = np.exp(0.2*np.sqrt(2*dt))\n",
    "    p1 = ((np.exp(r*dt/2)-np.exp(-0.2*np.sqrt(dt/2)))/(np.exp(0.2*np.sqrt(dt/2))-np.exp(-0.2*np.sqrt(dt/2))))**2\n",
    "    p2 = ((np.exp(0.2*np.sqrt(dt/2))-np.exp(r*dt/2))/(np.exp(0.2*np.sqrt(dt/2))-np.exp(-0.2*np.sqrt(dt/2))))**2\n",
    "    St = stock_model(S0, u, p1, p2, N)# array of (N+1) stock prices starting at times t=0,\n",
    "                                      # namely S(0),S(dt),S(2dt),...,S(T),1-dimensional array(1 row,N+1 columns)\n",
    "    S_star = np.min(St)# 'np.min' much faster than 'min' function, min would work as well(1-dimensional array)\n",
    "    ST = St[-1]#last element of St\n",
    "    if S_star < B:#conditions for payoff function\n",
    "        payoff = np.maximum(ST-K, 0)\n",
    "    else:\n",
    "        payoff = 0\n",
    "    C0 = np.exp(-r*T)*payoff# discounted payoff by risk free rate over T\n",
    "    return C0 "
   ]
  },
  {
   "cell_type": "code",
   "execution_count": 7,
   "metadata": {},
   "outputs": [
    {
     "name": "stdout",
     "output_type": "stream",
     "text": [
      "3.2975343108764306\n"
     ]
    }
   ],
   "source": [
    "def monte_carlo(S0, K, r, dt, T, m):\n",
    "    B = int(S0-10)\n",
    "    C0_values = np.array([down_and_in_option(S0, K, B, r, dt, T) for k in range(m)])#performs function d_a_i_o m-times\n",
    "    print(C0_values.mean())# displays the average of that array                      and stores results in an array \n",
    "\n",
    "S0, K, r, dt, T, m = 902897/8000, 902897/8000-8, 0.06, 0.01, 1.0, 10000\n",
    "monte_carlo(S0, K, r, dt, T, m)"
   ]
  },
  {
   "cell_type": "markdown",
   "metadata": {},
   "source": [
    "# Problem 3 (40 marks)"
   ]
  },
  {
   "cell_type": "markdown",
   "metadata": {},
   "source": [
    "File __stock.csv__ contains prices of a stock in the last year. \n",
    "File __options.csv__ contains prices of call and put options on the stock with expiry date over a 5 month period. \n",
    "\n",
    "\n",
    "- Your first task is to import the file __stock.csv__ as a pandas dataframe and plot its graph against time (in days).\n",
    "- Set $\\delta t>0$ to be a step size representing one day. This should be used later on in the n-step binomial model. \n",
    "- Now find the estimated volatility from the stock values. Given the column of stock prices (obtained from __stock.csv__) $s = \\{s_1, s_2, \\ldots, s_{251}\\}$, the estimated volatility is given by $$ \\sqrt{ \\frac{\\mbox{Var}(y)}{\\delta t}},$$ where $$y = \\left\\{\\ln\\left(\\frac{s_2}{s_1}\\right),\\ln\\left(\\frac{s_3}{s_2}\\right), \\ldots, \\ln\\left(\\frac{s_{251}}{s_{250}}\\right) \\right\\}$$ and $\\mbox{Var}(x) = \\frac{1}{n} \\sum_{k=1}^n \\left(x_i - \\frac{1}{n}\\sum_{k=1}^n x_i \\right)^2$ stands for the variance of $x = \\{x_1, x_2, \\ldots, x_n\\}$.\n",
    "- Next import the file __options.csv__ as a pandas dataframe, it should contain four columns  'strike price', 'call price', 'put price' and 'S0'.\n",
    "- By using put-call parity find the risk-free rate r for each option from __options.csv__ . Note that here r is a function of time. Add it as a new column to your dataframe (the one obtained from importing __options.csv__). Also define r\\_mean to be the average of this column. \n",
    "- Use n-step binomial model to obtain the price of a call option, and add the prices as a 'binomial call prices' column in the dataframe obtained from importing __options.csv__. Use $\\delta t$ that you defined earlier and find a suitable n to set the maturity to be 5 months.  Use r\\_mean as r-input when producing the results, remember to use the right u parameter (that depends on the volatility and $\\delta t$). \n",
    "- Produce a plot of call prices from __options.csv__, your x-axis should be the strike price. On the same graph produce a plot of call options  obtained from the binomial model. \n",
    "\n",
    "Remember to print your results."
   ]
  },
  {
   "cell_type": "code",
   "execution_count": 8,
   "metadata": {},
   "outputs": [
    {
     "data": {
      "text/html": [
       "<div>\n",
       "<style scoped>\n",
       "    .dataframe tbody tr th:only-of-type {\n",
       "        vertical-align: middle;\n",
       "    }\n",
       "\n",
       "    .dataframe tbody tr th {\n",
       "        vertical-align: top;\n",
       "    }\n",
       "\n",
       "    .dataframe thead th {\n",
       "        text-align: right;\n",
       "    }\n",
       "</style>\n",
       "<table border=\"1\" class=\"dataframe\">\n",
       "  <thead>\n",
       "    <tr style=\"text-align: right;\">\n",
       "      <th></th>\n",
       "      <th>date</th>\n",
       "      <th>stock price</th>\n",
       "    </tr>\n",
       "  </thead>\n",
       "  <tbody>\n",
       "    <tr>\n",
       "      <th>0</th>\n",
       "      <td>02/02/2018</td>\n",
       "      <td>157.4506</td>\n",
       "    </tr>\n",
       "    <tr>\n",
       "      <th>1</th>\n",
       "      <td>05/02/2018</td>\n",
       "      <td>153.5168</td>\n",
       "    </tr>\n",
       "    <tr>\n",
       "      <th>2</th>\n",
       "      <td>06/02/2018</td>\n",
       "      <td>159.9326</td>\n",
       "    </tr>\n",
       "    <tr>\n",
       "      <th>3</th>\n",
       "      <td>07/02/2018</td>\n",
       "      <td>156.5089</td>\n",
       "    </tr>\n",
       "    <tr>\n",
       "      <th>4</th>\n",
       "      <td>08/02/2018</td>\n",
       "      <td>152.2023</td>\n",
       "    </tr>\n",
       "    <tr>\n",
       "      <th>...</th>\n",
       "      <td>...</td>\n",
       "      <td>...</td>\n",
       "    </tr>\n",
       "    <tr>\n",
       "      <th>246</th>\n",
       "      <td>28/01/2019</td>\n",
       "      <td>155.6324</td>\n",
       "    </tr>\n",
       "    <tr>\n",
       "      <th>247</th>\n",
       "      <td>29/01/2019</td>\n",
       "      <td>154.0194</td>\n",
       "    </tr>\n",
       "    <tr>\n",
       "      <th>248</th>\n",
       "      <td>30/01/2019</td>\n",
       "      <td>164.5442</td>\n",
       "    </tr>\n",
       "    <tr>\n",
       "      <th>249</th>\n",
       "      <td>31/01/2019</td>\n",
       "      <td>165.7291</td>\n",
       "    </tr>\n",
       "    <tr>\n",
       "      <th>250</th>\n",
       "      <td>01/02/2019</td>\n",
       "      <td>165.8088</td>\n",
       "    </tr>\n",
       "  </tbody>\n",
       "</table>\n",
       "<p>251 rows × 2 columns</p>\n",
       "</div>"
      ],
      "text/plain": [
       "           date  stock price\n",
       "0    02/02/2018     157.4506\n",
       "1    05/02/2018     153.5168\n",
       "2    06/02/2018     159.9326\n",
       "3    07/02/2018     156.5089\n",
       "4    08/02/2018     152.2023\n",
       "..          ...          ...\n",
       "246  28/01/2019     155.6324\n",
       "247  29/01/2019     154.0194\n",
       "248  30/01/2019     164.5442\n",
       "249  31/01/2019     165.7291\n",
       "250  01/02/2019     165.8088\n",
       "\n",
       "[251 rows x 2 columns]"
      ]
     },
     "execution_count": 8,
     "metadata": {},
     "output_type": "execute_result"
    }
   ],
   "source": [
    "df_stock = pd.read_csv('stock.csv') #imports stock.csv file into DataFrame\n",
    "df_stock #displays the DataFrame, there are 251 rows x 2 columns, first column represent date of the trading day\n",
    "         # and second stock price. There were 251 trading days between 2/2/2018 and 1/02/2019"
   ]
  },
  {
   "cell_type": "code",
   "execution_count": 9,
   "metadata": {},
   "outputs": [
    {
     "data": {
      "image/png": "[encoded data removed]",
      "text/plain": [
       "<Figure size 432x288 with 1 Axes>"
      ]
     },
     "metadata": {
      "needs_background": "light"
     },
     "output_type": "display_data"
    }
   ],
   "source": [
    "df_stock.plot(y = \"stock price\")# plots stock price against time(in days) from 0 to 250 \n",
    "plt.show()"
   ]
  },
  {
   "cell_type": "code",
   "execution_count": 10,
   "metadata": {},
   "outputs": [],
   "source": [
    "def dt(n):# will be used later, and value will depend on number of steps (n)\n",
    "    return 1/n"
   ]
  },
  {
   "cell_type": "code",
   "execution_count": 11,
   "metadata": {},
   "outputs": [
    {
     "name": "stdout",
     "output_type": "stream",
     "text": [
      "0.3148690576663993 0           NaN\n",
      "1      157.4506\n",
      "2      153.5168\n",
      "3      159.9326\n",
      "4      156.5089\n",
      "         ...   \n",
      "246    157.0862\n",
      "247    155.6324\n",
      "248    154.0194\n",
      "249    164.5442\n",
      "250    165.7291\n",
      "Name: stock price, Length: 251, dtype: float64 0      157.4506\n",
      "1      153.5168\n",
      "2      159.9326\n",
      "3      156.5089\n",
      "4      152.2023\n",
      "         ...   \n",
      "246    155.6324\n",
      "247    154.0194\n",
      "248    164.5442\n",
      "249    165.7291\n",
      "250    165.8088\n",
      "Name: stock price, Length: 251, dtype: float64 0           NaN\n",
      "1      0.975016\n",
      "2      1.041792\n",
      "3      0.978593\n",
      "4      0.972483\n",
      "         ...   \n",
      "246    0.990745\n",
      "247    0.989636\n",
      "248    1.068334\n",
      "249    1.007201\n",
      "250    1.000481\n",
      "Name: stock price, Length: 251, dtype: float64\n"
     ]
    }
   ],
   "source": [
    "stk_prc = df_stock[\"stock price\"]\n",
    "n = stk_prc.size\n",
    "shifted_stock = stk_prc.shift(1)# shifts the index up by 1, giving s=[NaN,s1,s2,s3,...,s250]\n",
    "y_values = np.log(stk_prc/shifted_stock)# (NaN,log(s2/s1),log(s3/2),...,log(s251/s250)) \n",
    "var = np.var(y_values)# no neeed to specify ddof (N-0 degrees of freedom)\n",
    "volatility = np.sqrt(var/dt(n))\n",
    "\n",
    "print (volatility,shifted_stock, stk_prc, stk_prc/shifted_stock )"
   ]
  },
  {
   "cell_type": "code",
   "execution_count": 12,
   "metadata": {},
   "outputs": [
    {
     "data": {
      "text/html": [
       "<div>\n",
       "<style scoped>\n",
       "    .dataframe tbody tr th:only-of-type {\n",
       "        vertical-align: middle;\n",
       "    }\n",
       "\n",
       "    .dataframe tbody tr th {\n",
       "        vertical-align: top;\n",
       "    }\n",
       "\n",
       "    .dataframe thead th {\n",
       "        text-align: right;\n",
       "    }\n",
       "</style>\n",
       "<table border=\"1\" class=\"dataframe\">\n",
       "  <thead>\n",
       "    <tr style=\"text-align: right;\">\n",
       "      <th></th>\n",
       "      <th>strike price</th>\n",
       "      <th>call price</th>\n",
       "      <th>put price</th>\n",
       "      <th>S0</th>\n",
       "    </tr>\n",
       "  </thead>\n",
       "  <tbody>\n",
       "    <tr>\n",
       "      <th>0</th>\n",
       "      <td>80</td>\n",
       "      <td>90.54</td>\n",
       "      <td>0.05</td>\n",
       "      <td>165.8088</td>\n",
       "    </tr>\n",
       "    <tr>\n",
       "      <th>1</th>\n",
       "      <td>85</td>\n",
       "      <td>82.36</td>\n",
       "      <td>0.11</td>\n",
       "      <td>165.8088</td>\n",
       "    </tr>\n",
       "    <tr>\n",
       "      <th>2</th>\n",
       "      <td>90</td>\n",
       "      <td>66.35</td>\n",
       "      <td>0.11</td>\n",
       "      <td>165.8088</td>\n",
       "    </tr>\n",
       "    <tr>\n",
       "      <th>3</th>\n",
       "      <td>95</td>\n",
       "      <td>72.59</td>\n",
       "      <td>0.15</td>\n",
       "      <td>165.8088</td>\n",
       "    </tr>\n",
       "    <tr>\n",
       "      <th>4</th>\n",
       "      <td>100</td>\n",
       "      <td>71.05</td>\n",
       "      <td>0.18</td>\n",
       "      <td>165.8088</td>\n",
       "    </tr>\n",
       "  </tbody>\n",
       "</table>\n",
       "</div>"
      ],
      "text/plain": [
       "   strike price  call price  put price        S0\n",
       "0            80       90.54       0.05  165.8088\n",
       "1            85       82.36       0.11  165.8088\n",
       "2            90       66.35       0.11  165.8088\n",
       "3            95       72.59       0.15  165.8088\n",
       "4           100       71.05       0.18  165.8088"
      ]
     },
     "execution_count": 12,
     "metadata": {},
     "output_type": "execute_result"
    }
   ],
   "source": [
    "df_options = pd.read_csv('options.csv') #imports stock.csv file into DataFrame\n",
    "df_options.head()"
   ]
  },
  {
   "cell_type": "code",
   "execution_count": 13,
   "metadata": {},
   "outputs": [
    {
     "data": {
      "text/html": [
       "<div>\n",
       "<style scoped>\n",
       "    .dataframe tbody tr th:only-of-type {\n",
       "        vertical-align: middle;\n",
       "    }\n",
       "\n",
       "    .dataframe tbody tr th {\n",
       "        vertical-align: top;\n",
       "    }\n",
       "\n",
       "    .dataframe thead th {\n",
       "        text-align: right;\n",
       "    }\n",
       "</style>\n",
       "<table border=\"1\" class=\"dataframe\">\n",
       "  <thead>\n",
       "    <tr style=\"text-align: right;\">\n",
       "      <th></th>\n",
       "      <th>strike price</th>\n",
       "      <th>call price</th>\n",
       "      <th>put price</th>\n",
       "      <th>S0</th>\n",
       "      <th>risk free rate</th>\n",
       "    </tr>\n",
       "  </thead>\n",
       "  <tbody>\n",
       "    <tr>\n",
       "      <th>0</th>\n",
       "      <td>80</td>\n",
       "      <td>90.54</td>\n",
       "      <td>0.05</td>\n",
       "      <td>165.8088</td>\n",
       "      <td>0.060297</td>\n",
       "    </tr>\n",
       "    <tr>\n",
       "      <th>1</th>\n",
       "      <td>85</td>\n",
       "      <td>82.36</td>\n",
       "      <td>0.11</td>\n",
       "      <td>165.8088</td>\n",
       "      <td>0.017101</td>\n",
       "    </tr>\n",
       "    <tr>\n",
       "      <th>2</th>\n",
       "      <td>90</td>\n",
       "      <td>66.35</td>\n",
       "      <td>0.11</td>\n",
       "      <td>165.8088</td>\n",
       "      <td>-0.101039</td>\n",
       "    </tr>\n",
       "    <tr>\n",
       "      <th>3</th>\n",
       "      <td>95</td>\n",
       "      <td>72.59</td>\n",
       "      <td>0.15</td>\n",
       "      <td>165.8088</td>\n",
       "      <td>0.017320</td>\n",
       "    </tr>\n",
       "    <tr>\n",
       "      <th>4</th>\n",
       "      <td>100</td>\n",
       "      <td>71.05</td>\n",
       "      <td>0.18</td>\n",
       "      <td>165.8088</td>\n",
       "      <td>0.051938</td>\n",
       "    </tr>\n",
       "  </tbody>\n",
       "</table>\n",
       "</div>"
      ],
      "text/plain": [
       "   strike price  call price  put price        S0  risk free rate\n",
       "0            80       90.54       0.05  165.8088        0.060297\n",
       "1            85       82.36       0.11  165.8088        0.017101\n",
       "2            90       66.35       0.11  165.8088       -0.101039\n",
       "3            95       72.59       0.15  165.8088        0.017320\n",
       "4           100       71.05       0.18  165.8088        0.051938"
      ]
     },
     "execution_count": 13,
     "metadata": {},
     "output_type": "execute_result"
    }
   ],
   "source": [
    "K_values = df_options['strike price'] \n",
    "C_values = df_options['call price']\n",
    "P_values = df_options['put price']\n",
    "S0_values = df_options['S0']\n",
    "T = 1\n",
    "t = np.arange(0,T,df_options.size)# t ranges from 0 to T-dt\n",
    "\n",
    "r_values = (1/(t-T))*np.log((S0_values + P_values - C_values)/K_values)#formula evaluated from S_t+P_t−C_t=Ke^(−r(T−t)),\n",
    "                                                                       #(t-T)!=0. We assume that S0 to ST is the same as S0, there is no arbitrage\n",
    "\n",
    "df_options['risk free rate'] = r_values\n",
    "df_options.head()"
   ]
  },
  {
   "cell_type": "code",
   "execution_count": 14,
   "metadata": {},
   "outputs": [
    {
     "name": "stdout",
     "output_type": "stream",
     "text": [
      "0.026957207280133906\n"
     ]
    }
   ],
   "source": [
    "r_mean = df_options['risk free rate'].mean() # average\n",
    "print (r_mean)"
   ]
  },
  {
   "cell_type": "code",
   "execution_count": 15,
   "metadata": {},
   "outputs": [],
   "source": [
    "def binomial_term(S0, K, u, q, n, f, k):# function represents each successive term in the series\n",
    "    d = 1/u\n",
    "    binomial_coeff = stats.binom.pmf(k, n, q) \n",
    "    ST = S0*u**k*d**(n-k)\n",
    "    payoff = f(ST, K)\n",
    "    return binomial_coeff*payoff"
   ]
  },
  {
   "cell_type": "code",
   "execution_count": 16,
   "metadata": {},
   "outputs": [],
   "source": [
    "def binomial_price(S0, K, volatility, r_mean, dt, n, payoff):# function calculates all terms for k=0 to k=n, \n",
    "    k_values = np.arange(0, n+1)                             # adds them up and gives the call_price/put_price, \n",
    "    u = np.exp(volatility*np.sqrt(dt(n)))                    # depending on what payoff function we used.\n",
    "    d = 1/u\n",
    "    q = (np.exp(r*dt(n))-d)/(u-d)\n",
    "    binomial_terms = binomial_term(S0, K, u, q, n, payoff, k_values)\n",
    "    overall_sum = np.sum(binomial_terms)\n",
    "    return np.exp(-r*dt(n)*n)*overall_sum"
   ]
  },
  {
   "cell_type": "code",
   "execution_count": 17,
   "metadata": {},
   "outputs": [],
   "source": [
    "def call(ST, K): # payoff function\n",
    "    return np.maximum(ST-K, 0)"
   ]
  },
  {
   "cell_type": "code",
   "execution_count": 18,
   "metadata": {},
   "outputs": [
    {
     "name": "stdout",
     "output_type": "stream",
     "text": [
      "[90.53593225 85.88335678 81.26857124 76.70075049 72.19305585 67.76159763\n",
      " 63.42379418 59.19757642 55.10039878 51.14814369 47.35404065 43.72774053\n",
      " 40.27468468 36.99588266 33.88816341 30.9679852  28.27354688 25.74039642\n",
      " 23.35396226 21.1930165  19.19137256 17.30206171 15.63749311 14.07948468\n",
      " 12.64691817 11.38055419 10.16488854  9.14687761  8.15727317  7.31735673\n",
      "  6.51446341  5.831669    5.17980697  4.63307621  4.10148568  3.6704073\n",
      "  3.23932892  2.89918679  2.56459382  2.28198768  2.02639879  1.78816272\n",
      "  1.59606342]\n"
     ]
    }
   ],
   "source": [
    "S0 = df_options['S0'][1]\n",
    "n = df_options.size # stock expire over a 5-month period\n",
    "payoff = call\n",
    "binomial_values = np.array([binomial_price(S0, K, volatility, r_mean, dt, n, payoff) for K in K_values])\n",
    "print(binomial_values)"
   ]
  },
  {
   "cell_type": "code",
   "execution_count": 19,
   "metadata": {},
   "outputs": [
    {
     "data": {
      "text/html": [
       "<div>\n",
       "<style scoped>\n",
       "    .dataframe tbody tr th:only-of-type {\n",
       "        vertical-align: middle;\n",
       "    }\n",
       "\n",
       "    .dataframe tbody tr th {\n",
       "        vertical-align: top;\n",
       "    }\n",
       "\n",
       "    .dataframe thead th {\n",
       "        text-align: right;\n",
       "    }\n",
       "</style>\n",
       "<table border=\"1\" class=\"dataframe\">\n",
       "  <thead>\n",
       "    <tr style=\"text-align: right;\">\n",
       "      <th></th>\n",
       "      <th>strike price</th>\n",
       "      <th>call price</th>\n",
       "      <th>put price</th>\n",
       "      <th>S0</th>\n",
       "      <th>risk free rate</th>\n",
       "      <th>binomial call prices</th>\n",
       "    </tr>\n",
       "  </thead>\n",
       "  <tbody>\n",
       "    <tr>\n",
       "      <th>0</th>\n",
       "      <td>80</td>\n",
       "      <td>90.54</td>\n",
       "      <td>0.05</td>\n",
       "      <td>165.8088</td>\n",
       "      <td>0.060297</td>\n",
       "      <td>90.535932</td>\n",
       "    </tr>\n",
       "    <tr>\n",
       "      <th>1</th>\n",
       "      <td>85</td>\n",
       "      <td>82.36</td>\n",
       "      <td>0.11</td>\n",
       "      <td>165.8088</td>\n",
       "      <td>0.017101</td>\n",
       "      <td>85.883357</td>\n",
       "    </tr>\n",
       "    <tr>\n",
       "      <th>2</th>\n",
       "      <td>90</td>\n",
       "      <td>66.35</td>\n",
       "      <td>0.11</td>\n",
       "      <td>165.8088</td>\n",
       "      <td>-0.101039</td>\n",
       "      <td>81.268571</td>\n",
       "    </tr>\n",
       "    <tr>\n",
       "      <th>3</th>\n",
       "      <td>95</td>\n",
       "      <td>72.59</td>\n",
       "      <td>0.15</td>\n",
       "      <td>165.8088</td>\n",
       "      <td>0.017320</td>\n",
       "      <td>76.700750</td>\n",
       "    </tr>\n",
       "    <tr>\n",
       "      <th>4</th>\n",
       "      <td>100</td>\n",
       "      <td>71.05</td>\n",
       "      <td>0.18</td>\n",
       "      <td>165.8088</td>\n",
       "      <td>0.051938</td>\n",
       "      <td>72.193056</td>\n",
       "    </tr>\n",
       "  </tbody>\n",
       "</table>\n",
       "</div>"
      ],
      "text/plain": [
       "   strike price  call price  put price        S0  risk free rate  \\\n",
       "0            80       90.54       0.05  165.8088        0.060297   \n",
       "1            85       82.36       0.11  165.8088        0.017101   \n",
       "2            90       66.35       0.11  165.8088       -0.101039   \n",
       "3            95       72.59       0.15  165.8088        0.017320   \n",
       "4           100       71.05       0.18  165.8088        0.051938   \n",
       "\n",
       "   binomial call prices  \n",
       "0             90.535932  \n",
       "1             85.883357  \n",
       "2             81.268571  \n",
       "3             76.700750  \n",
       "4             72.193056  "
      ]
     },
     "execution_count": 19,
     "metadata": {},
     "output_type": "execute_result"
    }
   ],
   "source": [
    "df_options['binomial call prices'] = binomial_values # adds new column to df_options\n",
    "df_options.head()"
   ]
  },
  {
   "cell_type": "code",
   "execution_count": 20,
   "metadata": {},
   "outputs": [
    {
     "data": {
      "image/png": "[encoded data removed]",
      "text/plain": [
       "<Figure size 432x288 with 1 Axes>"
      ]
     },
     "metadata": {
      "needs_background": "light"
     },
     "output_type": "display_data"
    }
   ],
   "source": [
    "df_options.plot(kind = 'scatter', x = \"strike price\", y = \"call price\", label = \"real world prices\")\n",
    "plt.plot(K_values, binomial_values, 'r', label = 'binomial prices')\n",
    "plt.title(\"Call prices on certain stock\")\n",
    "plt.legend()\n",
    "plt.show()"
   ]
  }
 ],
 "metadata": {
  "kernelspec": {
   "display_name": "Python 3 (ipykernel)",
   "language": "python",
   "name": "python3"
  },
  "language_info": {
   "codemirror_mode": {
    "name": "ipython",
    "version": 3
   },
   "file_extension": ".py",
   "mimetype": "text/x-python",
   "name": "python",
   "nbconvert_exporter": "python",
   "pygments_lexer": "ipython3",
   "version": "3.9.12"
  }
 },
 "nbformat": 4,
 "nbformat_minor": 2
}
